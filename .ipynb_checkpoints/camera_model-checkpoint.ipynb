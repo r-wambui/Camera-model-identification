{
 "cells": [
  {
   "cell_type": "code",
   "execution_count": 1,
   "metadata": {},
   "outputs": [],
   "source": [
    "import os\n",
    "import gc\n",
    "import tqdm\n",
    "from glob import glob\n",
    "import pandas as pd\n",
    "import numpy as np\n",
    "import cv2\n",
    "from skimage.io import imread\n"
   ]
  },
  {
   "cell_type": "markdown",
   "metadata": {},
   "source": [
    "### load the images "
   ]
  },
  {
   "cell_type": "code",
   "execution_count": 2,
   "metadata": {},
   "outputs": [],
   "source": [
    "train_images =  glob(os.path.join('data/train', '*', '*'))"
   ]
  },
  {
   "cell_type": "code",
   "execution_count": 3,
   "metadata": {},
   "outputs": [
    {
     "data": {
      "text/plain": [
       "14"
      ]
     },
     "execution_count": 3,
     "metadata": {},
     "output_type": "execute_result"
    }
   ],
   "source": [
    "train_df = pd.DataFrame({'path': train_images})\n",
    "camera_model = lambda in_path: in_path.split('/')[2]\n",
    "train_df[\"camera_model\"] = train_df[\"path\"].map(camera_model)\n",
    "\n",
    "del train_images\n",
    "gc.collect()"
   ]
  },
  {
   "cell_type": "code",
   "execution_count": 4,
   "metadata": {},
   "outputs": [
    {
     "data": {
      "text/html": [
       "<div>\n",
       "<style scoped>\n",
       "    .dataframe tbody tr th:only-of-type {\n",
       "        vertical-align: middle;\n",
       "    }\n",
       "\n",
       "    .dataframe tbody tr th {\n",
       "        vertical-align: top;\n",
       "    }\n",
       "\n",
       "    .dataframe thead th {\n",
       "        text-align: right;\n",
       "    }\n",
       "</style>\n",
       "<table border=\"1\" class=\"dataframe\">\n",
       "  <thead>\n",
       "    <tr style=\"text-align: right;\">\n",
       "      <th></th>\n",
       "      <th>path</th>\n",
       "      <th>camera_model</th>\n",
       "    </tr>\n",
       "  </thead>\n",
       "  <tbody>\n",
       "    <tr>\n",
       "      <th>1087</th>\n",
       "      <td>data/train/Motorola-X/(MotoX)151.jpg</td>\n",
       "      <td>Motorola-X</td>\n",
       "    </tr>\n",
       "    <tr>\n",
       "      <th>2358</th>\n",
       "      <td>data/train/LG-Nexus-5x/(LG5x)17.jpg</td>\n",
       "      <td>LG-Nexus-5x</td>\n",
       "    </tr>\n",
       "    <tr>\n",
       "      <th>2576</th>\n",
       "      <td>data/train/HTC-1-M7/(HTC-1-M7)264.jpg</td>\n",
       "      <td>HTC-1-M7</td>\n",
       "    </tr>\n",
       "    <tr>\n",
       "      <th>2404</th>\n",
       "      <td>data/train/LG-Nexus-5x/(LG5x)197.jpg</td>\n",
       "      <td>LG-Nexus-5x</td>\n",
       "    </tr>\n",
       "    <tr>\n",
       "      <th>598</th>\n",
       "      <td>data/train/Samsung-Galaxy-Note3/(GalaxyN3)139.jpg</td>\n",
       "      <td>Samsung-Galaxy-Note3</td>\n",
       "    </tr>\n",
       "  </tbody>\n",
       "</table>\n",
       "</div>"
      ],
      "text/plain": [
       "                                                   path          camera_model\n",
       "1087               data/train/Motorola-X/(MotoX)151.jpg            Motorola-X\n",
       "2358                data/train/LG-Nexus-5x/(LG5x)17.jpg           LG-Nexus-5x\n",
       "2576              data/train/HTC-1-M7/(HTC-1-M7)264.jpg              HTC-1-M7\n",
       "2404               data/train/LG-Nexus-5x/(LG5x)197.jpg           LG-Nexus-5x\n",
       "598   data/train/Samsung-Galaxy-Note3/(GalaxyN3)139.jpg  Samsung-Galaxy-Note3"
      ]
     },
     "execution_count": 4,
     "metadata": {},
     "output_type": "execute_result"
    }
   ],
   "source": [
    "train_df.sample(5)"
   ]
  },
  {
   "cell_type": "code",
   "execution_count": 5,
   "metadata": {},
   "outputs": [
    {
     "data": {
      "text/html": [
       "<div>\n",
       "<style scoped>\n",
       "    .dataframe tbody tr th:only-of-type {\n",
       "        vertical-align: middle;\n",
       "    }\n",
       "\n",
       "    .dataframe tbody tr th {\n",
       "        vertical-align: top;\n",
       "    }\n",
       "\n",
       "    .dataframe thead th {\n",
       "        text-align: right;\n",
       "    }\n",
       "</style>\n",
       "<table border=\"1\" class=\"dataframe\">\n",
       "  <thead>\n",
       "    <tr style=\"text-align: right;\">\n",
       "      <th></th>\n",
       "      <th>path</th>\n",
       "    </tr>\n",
       "  </thead>\n",
       "  <tbody>\n",
       "    <tr>\n",
       "      <th>0</th>\n",
       "      <td>data/test/img_6e3ad79_manip.tif</td>\n",
       "    </tr>\n",
       "    <tr>\n",
       "      <th>1</th>\n",
       "      <td>data/test/img_b591ede_unalt.tif</td>\n",
       "    </tr>\n",
       "    <tr>\n",
       "      <th>2</th>\n",
       "      <td>data/test/img_0f07b82_unalt.tif</td>\n",
       "    </tr>\n",
       "    <tr>\n",
       "      <th>3</th>\n",
       "      <td>data/test/img_b87210f_manip.tif</td>\n",
       "    </tr>\n",
       "    <tr>\n",
       "      <th>4</th>\n",
       "      <td>data/test/img_762228b_manip.tif</td>\n",
       "    </tr>\n",
       "  </tbody>\n",
       "</table>\n",
       "</div>"
      ],
      "text/plain": [
       "                              path\n",
       "0  data/test/img_6e3ad79_manip.tif\n",
       "1  data/test/img_b591ede_unalt.tif\n",
       "2  data/test/img_0f07b82_unalt.tif\n",
       "3  data/test/img_b87210f_manip.tif\n",
       "4  data/test/img_762228b_manip.tif"
      ]
     },
     "execution_count": 5,
     "metadata": {},
     "output_type": "execute_result"
    }
   ],
   "source": [
    "test_images = glob(os.path.join('data/test', '*'))\n",
    "test_df = pd.DataFrame({\"path\":test_images})\n",
    "\n",
    "del test_images\n",
    "gc.collect()\n",
    "\n",
    "test_df.head(5)"
   ]
  },
  {
   "cell_type": "markdown",
   "metadata": {},
   "source": [
    "#### Read the image and altering\n",
    "half of the images in the test dataset were manupulated, therefore we are going to manipulate the train dataset as per the following:\n",
    "\n",
    "            JPEG compression with quality factor = 70\n",
    "            JPEG compression with quality factor = 90\n",
    "            resizing (via bicubic interpolation) by a factor of 0.5\n",
    "            resizing (via bicubic interpolation) by a factor of 0.8\n",
    "            resizing (via bicubic interpolation) by a factor of 1.5\n",
    "            resizing (via bicubic interpolation) by a factor of 2.0\n",
    "            gamma correction using gamma = 0.8\n",
    "            gamma correction using gamma = 1.2\n",
    "            \n",
    "This will generate thousands of training images.\n"
   ]
  },
  {
   "cell_type": "code",
   "execution_count": 9,
   "metadata": {},
   "outputs": [],
   "source": [
    "### read the images \n",
    "def read_image(image_list):\n",
    "    return [imread(image) for image in tqdm.tqdm(image_list)]\n"
   ]
  },
  {
   "cell_type": "code",
   "execution_count": 10,
   "metadata": {},
   "outputs": [
    {
     "name": "stderr",
     "output_type": "stream",
     "text": [
      "  0%|          | 0/2750 [00:00<?, ?it/s]\n"
     ]
    }
   ],
   "source": [
    "original_images = read_image(train_df['path'].tolist())"
   ]
  },
  {
   "cell_type": "code",
   "execution_count": 12,
   "metadata": {},
   "outputs": [
    {
     "name": "stdout",
     "output_type": "stream",
     "text": [
      "4320\n"
     ]
    }
   ],
   "source": [
    "print(len(original_images))"
   ]
  },
  {
   "cell_type": "markdown",
   "metadata": {},
   "source": [
    "#### 1: JPEG compression with quality factor = 70"
   ]
  },
  {
   "cell_type": "code",
   "execution_count": null,
   "metadata": {},
   "outputs": [],
   "source": []
  }
 ],
 "metadata": {
  "kernelspec": {
   "display_name": "Python 3",
   "language": "python",
   "name": "python3"
  },
  "language_info": {
   "codemirror_mode": {
    "name": "ipython",
    "version": 3
   },
   "file_extension": ".py",
   "mimetype": "text/x-python",
   "name": "python",
   "nbconvert_exporter": "python",
   "pygments_lexer": "ipython3",
   "version": "3.6.5"
  }
 },
 "nbformat": 4,
 "nbformat_minor": 2
}
