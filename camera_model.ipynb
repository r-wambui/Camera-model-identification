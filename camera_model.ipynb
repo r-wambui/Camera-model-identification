{
  "cells": [
    {
      "metadata": {
        "_uuid": "8f2839f25d086af736a60e9eeb907d3b93b6e0e5",
        "_cell_guid": "b1076dfc-b9ad-4769-8c92-a6c4dae69d19",
        "trusted": true
      },
      "cell_type": "code",
      "source": "import numpy as np\nimport pathlib\nimport random\nimport shutil\nimport torch\nimport os\n\nfrom os import path\nfrom torchvision import transforms, datasets",
      "execution_count": null,
      "outputs": []
    },
    {
      "metadata": {
        "trusted": true,
        "_uuid": "3c324f7c5502c36a7c4f4b20845647109d472b7b"
      },
      "cell_type": "code",
      "source": "os.listdir(\"../input/archive\")",
      "execution_count": null,
      "outputs": []
    },
    {
      "metadata": {
        "trusted": true,
        "_uuid": "29e37d575ad79f057bced6603058e204ae82ca8c"
      },
      "cell_type": "code",
      "source": "# define the transform\ntrain_transform = transforms.Compose([\n                                transforms.RandomRotation(40),\n                                transforms.RandomResizedCrop(224), # most pretrained model have this size of image\n                                transforms.RandomHorizontalFlip(),\n                                transforms.ToTensor(),\n                                transforms.Normalize([0.485, 0.456, 0.406], # Normalize by mean and std\n                                                            [0.229, 0.224, 0.225])])\n\nval_transform = transforms.Compose([\n                        transforms.RandomResizedCrop(224),\n                        transforms.ToTensor(),\n                        transforms.Normalize([0.485, 0.456, 0.406], # Normalize by mean and std\n                                                            [0.229, 0.224, 0.225])])\n# load the data\ndata_path = \"../input/archive/\"\ntrain_data = datasets.ImageFolder(data_path + \"train1\", transform = train_transform)\nval_data = datasets.ImageFolder(data_path + \"val\", transform=val_transform)\n",
      "execution_count": 14,
      "outputs": []
    },
    {
      "metadata": {
        "trusted": true,
        "_uuid": "817b284347345213400513f1dba5eb8e983bdba8"
      },
      "cell_type": "code",
      "source": "",
      "execution_count": null,
      "outputs": []
    }
  ],
  "metadata": {
    "kernelspec": {
      "display_name": "Python 3",
      "language": "python",
      "name": "python3"
    },
    "language_info": {
      "name": "python",
      "version": "3.6.6",
      "mimetype": "text/x-python",
      "codemirror_mode": {
        "name": "ipython",
        "version": 3
      },
      "pygments_lexer": "ipython3",
      "nbconvert_exporter": "python",
      "file_extension": ".py"
    }
  },
  "nbformat": 4,
  "nbformat_minor": 1
}